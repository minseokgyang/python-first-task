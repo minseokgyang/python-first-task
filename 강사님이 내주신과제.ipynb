{
  "nbformat": 4,
  "nbformat_minor": 0,
  "metadata": {
    "colab": {
      "provenance": []
    },
    "kernelspec": {
      "name": "python3",
      "display_name": "Python 3"
    },
    "language_info": {
      "name": "python"
    }
  },
  "cells": [
    {
      "cell_type": "code",
      "execution_count": 4,
      "metadata": {
        "colab": {
          "base_uri": "https://localhost:8080/"
        },
        "id": "XOs2xZZL_UTq",
        "outputId": "9de0f952-06b8-4193-a6c4-e6b1f7304250"
      },
      "outputs": [
        {
          "output_type": "stream",
          "name": "stdout",
          "text": [
            "h\n"
          ]
        }
      ],
      "source": [
        "word = \"Python\"\n",
        "# 예상 결과: h\n",
        "# 예상 결과: n\n",
        "\n",
        "# 여기에 코드 작성\n",
        "\n",
        "print(word[-3])"
        "print(word[-1])"
      ]
    },
    {
      "cell_type": "code",
      "source": [
        "numbers = [10, 20, 30, 40, 50]\n",
        "# 예상 결과: 30\n",
        "# 예상 결과: 10\n",
        "\n",
        "# 여기에 코드 작성\n",
        "print(numbers[2])\n",
        "print(numbers[0])"
      ],
      "metadata": {
        "colab": {
          "base_uri": "https://localhost:8080/"
        },
        "id": "2m2EZ24r_aly",
        "outputId": "7f2af97a-3787-4f5f-aae0-01e98ad8fc99"
      },
      "execution_count": 6,
      "outputs": [
        {
          "output_type": "stream",
          "name": "stdout",
          "text": [
            "30\n",
            "10\n"
          ]
        }
      ]
    },
    {
      "cell_type": "code",
      "source": [
        "text = \"Python\"\n",
        "# 예상 결과: Pyt\n",
        "# 예상 결과: thon\n",
        "\n",
        "\n",
        "# 여기에 코드 작성\n",
        "\n",
        "print(text[0:3])\n",
        "print(text[2:6])"
      ],
      "metadata": {
        "colab": {
          "base_uri": "https://localhost:8080/"
        },
        "id": "l-7BbQ9V_67D",
        "outputId": "01dfbbd1-f713-48f5-846d-fcfe7ebb0a13"
      },
      "execution_count": 13,
      "outputs": [
        {
          "output_type": "stream",
          "name": "stdout",
          "text": [
            "Pyt\n",
            "thon\n"
          ]
        }
      ]
    },
    {
      "cell_type": "code",
      "source": [
        "data = [10, 20, 30, 40, 50]\n",
        "# 예상 결과: [20, 30, 40]\n",
        "# 예상 결과: [50, 40, 30, 20, 10]\n",
        "\n",
        "# 여기에 코드 작성\n",
        "\n",
        "print(data[1:4])\n",
        "data.reverse()\n",
        "print(data)"
      ],
      "metadata": {
        "colab": {
          "base_uri": "https://localhost:8080/"
        },
        "id": "Jsb8qf0x_7LA",
        "outputId": "930231b3-7b58-4bc4-fb6f-e9648283139f"
      },
      "execution_count": 17,
      "outputs": [
        {
          "output_type": "stream",
          "name": "stdout",
          "text": [
            "[20, 30, 40]\n",
            "[50, 40, 30, 20, 10]\n"
          ]
        }
      ]
    },
    {
      "cell_type": "code",
      "source": [],
      "metadata": {
        "id": "fDkZVRg_AbxO"
      },
      "execution_count": 14,
      "outputs": []
    }
  ]
}
