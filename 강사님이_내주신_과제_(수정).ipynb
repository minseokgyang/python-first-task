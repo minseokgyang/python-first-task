{
  "nbformat": 4,
  "nbformat_minor": 0,
  "metadata": {
    "colab": {
      "provenance": []
    },
    "kernelspec": {
      "name": "python3",
      "display_name": "Python 3"
    },
    "language_info": {
      "name": "python"
    }
  },
  "cells": [
    {
      "cell_type": "code",
      "execution_count": 1,
      "metadata": {
        "colab": {
          "base_uri": "https://localhost:8080/"
        },
        "id": "NtTajuo3S-YJ",
        "outputId": "1405e9ac-b58a-431f-dec1-90163f461fd1"
      },
      "outputs": [
        {
          "output_type": "stream",
          "name": "stdout",
          "text": [
            "h\n",
            "n\n"
          ]
        }
      ],
      "source": [
        "word = \"python\"\n",
        "# 예상 결과: h\n",
        "# 예상 결과: n\n",
        "\n",
        "print(word[-3])\n",
        "print(word[-1])"
      ]
    },
    {
      "cell_type": "code",
      "source": [
        "numbers = [10, 20, 30, 40, 50]\n",
        "# 예상 결과: 30\n",
        "# 예상 결과: 10\n",
        "\n",
        "print(numbers[2])\n",
        "print(numbers[0])"
      ],
      "metadata": {
        "id": "onjvmolwTFOt"
      },
      "execution_count": null,
      "outputs": []
    },
    {
      "cell_type": "code",
      "source": [
        "text = \"Python\"\n",
        "# 예상 결과: Pyt\n",
        "# 예상 결과: thon\n",
        "\n",
        "print(text[:3])\n",
        "print(text[2:6])"
      ],
      "metadata": {
        "colab": {
          "base_uri": "https://localhost:8080/"
        },
        "id": "xp9wbonVTJQs",
        "outputId": "9087f837-565f-44ee-8ce8-bab8647e5b0f"
      },
      "execution_count": 4,
      "outputs": [
        {
          "output_type": "stream",
          "name": "stdout",
          "text": [
            "Pyt\n",
            "thon\n"
          ]
        }
      ]
    },
    {
      "cell_type": "code",
      "source": [
        "data = [10, 20, 30, 40, 50]\n",
        "# 예상 결과: [20, 30, 40]\n",
        "# 예상 결과: [50, 40, 30, 20, 10]\n",
        "\n",
        "print(data[1:4])\n",
        "print(data[::-1])"
      ],
      "metadata": {
        "colab": {
          "base_uri": "https://localhost:8080/"
        },
        "id": "LTxOtFRvTKTK",
        "outputId": "a41a2505-c164-4bcb-8cbe-8ffe9a824d24"
      },
      "execution_count": 18,
      "outputs": [
        {
          "output_type": "stream",
          "name": "stdout",
          "text": [
            "[20, 30, 40]\n",
            "[50, 40, 30, 20, 10]\n"
          ]
        }
      ]
    },
    {
      "cell_type": "code",
      "source": [],
      "metadata": {
        "id": "rFFxvICKTWdp"
      },
      "execution_count": null,
      "outputs": []
    }
  ]
}